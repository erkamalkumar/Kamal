{
  "cells": [
    {
      "cell_type": "markdown",
      "metadata": {
        "id": "view-in-github",
        "colab_type": "text"
      },
      "source": [
        "<a href=\"https://colab.research.google.com/github/erkamalkumar/Kamal/blob/main/01_tensor_operations.ipynb\" target=\"_parent\"><img src=\"https://colab.research.google.com/assets/colab-badge.svg\" alt=\"Open In Colab\"/></a>"
      ]
    },
    {
      "cell_type": "markdown",
      "metadata": {
        "id": "QhV-9tQzJPyT"
      },
      "source": [
        "# Title Here\n",
        "\n",
        "An short introduction about PyTorch and about the chosen functions. \n",
        "\n",
        "- function 1: is_tensor\n",
        "- function 2: is_storage\n",
        "- function 3: is_complex\n",
        "- function 4: conj\n",
        "- function 5: is_floating_point\n",
        "\n",
        "Before we begin, let's install and import PyTorch"
      ]
    },
    {
      "cell_type": "code",
      "execution_count": 1,
      "metadata": {
        "colab": {
          "base_uri": "https://localhost:8080/"
        },
        "id": "LpObn8hNJPyT",
        "outputId": "5e3eff12-1789-4965-8241-250c9896cf77"
      },
      "outputs": [
        {
          "output_type": "stream",
          "name": "stdout",
          "text": [
            "Looking in indexes: https://pypi.org/simple, https://us-python.pkg.dev/colab-wheels/public/simple/\n",
            "Looking in links: https://download.pytorch.org/whl/torch_stable.html\n",
            "Requirement already satisfied: numpy in /usr/local/lib/python3.10/dist-packages (1.22.4)\n",
            "\u001b[31mERROR: Could not find a version that satisfies the requirement torch==1.7.0+cpu (from versions: 1.11.0, 1.11.0+cpu, 1.11.0+cu102, 1.11.0+cu113, 1.11.0+cu115, 1.11.0+rocm4.3.1, 1.11.0+rocm4.5.2, 1.12.0, 1.12.0+cpu, 1.12.0+cu102, 1.12.0+cu113, 1.12.0+cu116, 1.12.0+rocm5.0, 1.12.0+rocm5.1.1, 1.12.1, 1.12.1+cpu, 1.12.1+cu102, 1.12.1+cu113, 1.12.1+cu116, 1.12.1+rocm5.0, 1.12.1+rocm5.1.1, 1.13.0, 1.13.0+cpu, 1.13.0+cu116, 1.13.0+cu117, 1.13.0+cu117.with.pypi.cudnn, 1.13.0+rocm5.1.1, 1.13.0+rocm5.2, 1.13.1, 1.13.1+cpu, 1.13.1+cu116, 1.13.1+cu117, 1.13.1+cu117.with.pypi.cudnn, 1.13.1+rocm5.1.1, 1.13.1+rocm5.2, 2.0.0, 2.0.0+cpu, 2.0.0+cpu.cxx11.abi, 2.0.0+cu117, 2.0.0+cu117.with.pypi.cudnn, 2.0.0+cu118, 2.0.0+rocm5.3, 2.0.0+rocm5.4.2)\u001b[0m\u001b[31m\n",
            "\u001b[0m\u001b[31mERROR: No matching distribution found for torch==1.7.0+cpu\u001b[0m\u001b[31m\n",
            "\u001b[0m"
          ]
        }
      ],
      "source": [
        "# Uncomment and run the appropriate command for your operating system, if required\n",
        "\n",
        "# Linux / Binder\n",
        "!pip install numpy torch==1.7.0+cpu torchvision==0.8.1+cpu torchaudio==0.7.0 -f https://download.pytorch.org/whl/torch_stable.html\n",
        "\n",
        "# Windows\n",
        "# !pip install numpy torch==1.7.0+cpu torchvision==0.8.1+cpu torchaudio==0.7.0 -f https://download.pytorch.org/whl/torch_stable.html\n",
        "\n",
        "# MacOS\n",
        "# !pip install numpy torch torchvision torchaudio"
      ]
    },
    {
      "cell_type": "code",
      "execution_count": 2,
      "metadata": {
        "id": "xnow2YSbJPyU"
      },
      "outputs": [],
      "source": [
        "# Import torch and other required modules\n",
        "import torch"
      ]
    },
    {
      "cell_type": "markdown",
      "metadata": {
        "id": "353RnUVQJPyU"
      },
      "source": [
        "## Function 1 - torch.is_tensor()\n",
        "\n",
        "```\n",
        "torch.is_tensor() is a function in the PyTorch library \n",
        "that can be used to check whether a given variable is a PyTorch tensor or not.\n",
        "```"
      ]
    },
    {
      "cell_type": "code",
      "execution_count": 3,
      "metadata": {
        "colab": {
          "base_uri": "https://localhost:8080/"
        },
        "id": "GKYAq5jJJPyU",
        "outputId": "7b28cc5e-6c30-4dcc-ebfd-ae3ed17a0757"
      },
      "outputs": [
        {
          "output_type": "execute_result",
          "data": {
            "text/plain": [
              "True"
            ]
          },
          "metadata": {},
          "execution_count": 3
        }
      ],
      "source": [
        "# Example 1 - working (change this)\n",
        "x1 = torch.is_tensor(torch.tensor([[1, 2], [3, 4.]]))\n",
        "x1"
      ]
    },
    {
      "cell_type": "markdown",
      "metadata": {
        "id": "AP5f62_FJPyV"
      },
      "source": [
        "Explanation about example:\n",
        "\n",
        "```\n",
        "In the above example we have taken a tensor inside the torch.is_tensor(),\n",
        "and we are getting result as True.\n"
      ]
    },
    {
      "cell_type": "code",
      "execution_count": 4,
      "metadata": {
        "colab": {
          "base_uri": "https://localhost:8080/"
        },
        "id": "4zlHOS3DJPyV",
        "outputId": "a88097f9-6c33-4c92-fb6a-3164625266fe"
      },
      "outputs": [
        {
          "output_type": "execute_result",
          "data": {
            "text/plain": [
              "False"
            ]
          },
          "metadata": {},
          "execution_count": 4
        }
      ],
      "source": [
        "# Example 2 - working\n",
        "x = [[1, 2], [3, 4.]]\n",
        "x2 = torch.is_tensor(x)\n",
        "x2"
      ]
    },
    {
      "cell_type": "markdown",
      "metadata": {
        "id": "Yh033wnEJPyV"
      },
      "source": [
        "Explanation about example:\n",
        "```\n",
        "In the above example we have considered a list inside the torch.is_tensor(),\n",
        "and getting output as False because x is not a tensor.\n",
        " "
      ]
    },
    {
      "cell_type": "code",
      "execution_count": 5,
      "metadata": {
        "colab": {
          "base_uri": "https://localhost:8080/",
          "height": 200
        },
        "id": "wTL4c_hUJPyV",
        "outputId": "d325ba88-a9f9-453a-dd7d-1a7c1ae1b9e1"
      },
      "outputs": [
        {
          "output_type": "error",
          "ename": "ValueError",
          "evalue": "ignored",
          "traceback": [
            "\u001b[0;31m---------------------------------------------------------------------------\u001b[0m",
            "\u001b[0;31mValueError\u001b[0m                                Traceback (most recent call last)",
            "\u001b[0;32m<ipython-input-5-bdaad16f177b>\u001b[0m in \u001b[0;36m<cell line: 2>\u001b[0;34m()\u001b[0m\n\u001b[1;32m      1\u001b[0m \u001b[0;31m# Example 3 - breaking (to illustrate when it breaks)\u001b[0m\u001b[0;34m\u001b[0m\u001b[0;34m\u001b[0m\u001b[0m\n\u001b[0;32m----> 2\u001b[0;31m \u001b[0mx3\u001b[0m \u001b[0;34m=\u001b[0m \u001b[0mtorch\u001b[0m\u001b[0;34m.\u001b[0m\u001b[0mis_tensor\u001b[0m\u001b[0;34m(\u001b[0m\u001b[0mtorch\u001b[0m\u001b[0;34m.\u001b[0m\u001b[0mtensor\u001b[0m\u001b[0;34m(\u001b[0m\u001b[0;34m[\u001b[0m\u001b[0;34m[\u001b[0m\u001b[0;36m1\u001b[0m\u001b[0;34m,\u001b[0m \u001b[0;36m2\u001b[0m\u001b[0;34m]\u001b[0m\u001b[0;34m,\u001b[0m \u001b[0;34m[\u001b[0m\u001b[0;36m3\u001b[0m\u001b[0;34m,\u001b[0m \u001b[0;36m4\u001b[0m\u001b[0;34m,\u001b[0m \u001b[0;36m5\u001b[0m\u001b[0;34m]\u001b[0m\u001b[0;34m]\u001b[0m\u001b[0;34m)\u001b[0m\u001b[0;34m)\u001b[0m\u001b[0;34m\u001b[0m\u001b[0;34m\u001b[0m\u001b[0m\n\u001b[0m\u001b[1;32m      3\u001b[0m \u001b[0mx3\u001b[0m\u001b[0;34m\u001b[0m\u001b[0;34m\u001b[0m\u001b[0m\n",
            "\u001b[0;31mValueError\u001b[0m: expected sequence of length 2 at dim 1 (got 3)"
          ]
        }
      ],
      "source": [
        "# Example 3 - breaking (to illustrate when it breaks)\n",
        "x3 = torch.is_tensor(torch.tensor([[1, 2], [3, 4, 5]]))\n",
        "x3"
      ]
    },
    {
      "cell_type": "markdown",
      "metadata": {
        "id": "0amb2WnCJPyV"
      },
      "source": [
        "Explanation about example:\n",
        "```\n",
        "In above example we have not define tensor properly inside the torch.is_tensor()\n",
        "that's why we are getting value error.\n"
      ]
    },
    {
      "cell_type": "markdown",
      "metadata": {
        "id": "pX418TUFJPyV"
      },
      "source": [
        "Closing comments about when to use this function:\n",
        "```\n",
        "torch.is_tensor() function that takes an input object and returns a boolean value\n",
        "indicating whether the object is a PyTorch tensor or not. If the input is a\n",
        "PyTorch tensor, the function will return True, otherwise it will return False.\n"
      ]
    },
    {
      "cell_type": "markdown",
      "metadata": {
        "id": "xFhx2ixFJPyW"
      },
      "source": [
        "Let's save our work using Jovian before continuing."
      ]
    },
    {
      "cell_type": "code",
      "execution_count": 6,
      "metadata": {
        "colab": {
          "base_uri": "https://localhost:8080/"
        },
        "id": "yhpnn2XPJPyW",
        "outputId": "0346bb55-2052-4f3a-a0de-a35a49c93f1c"
      },
      "outputs": [
        {
          "output_type": "stream",
          "name": "stdout",
          "text": [
            "\u001b[?25l     \u001b[90m━━━━━━━━━━━━━━━━━━━━━━━━━━━━━━━━━━━━━━━━\u001b[0m \u001b[32m0.0/68.6 kB\u001b[0m \u001b[31m?\u001b[0m eta \u001b[36m-:--:--\u001b[0m\r\u001b[2K     \u001b[90m━━━━━━━━━━━━━━━━━━━━━━━━━━━━━━━━━━━━━━━━\u001b[0m \u001b[32m68.6/68.6 kB\u001b[0m \u001b[31m2.4 MB/s\u001b[0m eta \u001b[36m0:00:00\u001b[0m\n",
            "\u001b[?25h  Preparing metadata (setup.py) ... \u001b[?25l\u001b[?25hdone\n",
            "  Building wheel for uuid (setup.py) ... \u001b[?25l\u001b[?25hdone\n"
          ]
        }
      ],
      "source": [
        "!pip install jovian --upgrade --quiet"
      ]
    },
    {
      "cell_type": "code",
      "execution_count": 7,
      "metadata": {
        "id": "kaGTy4_KJPyW"
      },
      "outputs": [],
      "source": [
        "import jovian"
      ]
    },
    {
      "cell_type": "code",
      "execution_count": 8,
      "metadata": {
        "colab": {
          "base_uri": "https://localhost:8080/"
        },
        "id": "oVORt5nWJPyW",
        "outputId": "cc74782e-98b4-46e2-f10d-7ec3db32a6b1"
      },
      "outputs": [
        {
          "output_type": "stream",
          "name": "stdout",
          "text": [
            "[jovian] Detected Colab notebook...\u001b[0m\n",
            "[jovian] jovian.commit() is no longer required on Google Colab. If you ran this notebook from Jovian, \n",
            "then just save this file in Colab using Ctrl+S/Cmd+S and it will be updated on Jovian. \n",
            "Also, you can also delete this cell, it's no longer necessary.\u001b[0m\n"
          ]
        }
      ],
      "source": [
        "jovian.commit(project='01-tensor-operations')"
      ]
    },
    {
      "cell_type": "markdown",
      "metadata": {
        "id": "RRKPS410JPyW"
      },
      "source": [
        "## Function 2 - torch.is_storage()\n",
        "```\n",
        "torch.is_storage() is a function in PyTorch that checks whether an object is a\n",
        "PyTorch storage object or not. Because a storage object in PyTorch is a\n",
        "contiguous chunk of memory used to store tensor elements.\n"
      ]
    },
    {
      "cell_type": "code",
      "execution_count": 9,
      "metadata": {
        "colab": {
          "base_uri": "https://localhost:8080/"
        },
        "id": "2jRXtmacJPyW",
        "outputId": "fc310303-fd96-473c-c06d-1527ba634fbd"
      },
      "outputs": [
        {
          "output_type": "stream",
          "name": "stdout",
          "text": [
            " -7.55476626589991e-18\n",
            " 4.5693540324703635e-41\n",
            " 5.877692159302217e-34\n",
            " 0.0\n",
            " 0.0\n",
            " 0.0\n",
            "[torch.storage.TypedStorage(dtype=torch.float32, device=cpu) of size 6]\n",
            "True\n"
          ]
        },
        {
          "output_type": "stream",
          "name": "stderr",
          "text": [
            "<ipython-input-9-fbd975598bfe>:4: UserWarning: TypedStorage is deprecated. It will be removed in the future and UntypedStorage will be the only storage class. This should only matter to you if you are using storages directly.  To access UntypedStorage directly, use tensor.untyped_storage() instead of tensor.storage()\n",
            "  a = torch.FloatStorage(6)\n",
            "<ipython-input-9-fbd975598bfe>:5: UserWarning: TypedStorage is deprecated. It will be removed in the future and UntypedStorage will be the only storage class. This should only matter to you if you are using storages directly.  To access UntypedStorage directly, use tensor.untyped_storage() instead of tensor.storage()\n",
            "  print(a)\n",
            "/usr/local/lib/python3.10/dist-packages/torch/storage.py:636: UserWarning: TypedStorage is deprecated. It will be removed in the future and UntypedStorage will be the only storage class. This should only matter to you if you are using storages directly.  To access UntypedStorage directly, use tensor.untyped_storage() instead of tensor.storage()\n",
            "  f'device={self.device}) of size {len(self)}]')\n",
            "/usr/local/lib/python3.10/dist-packages/torch/storage.py:637: UserWarning: TypedStorage is deprecated. It will be removed in the future and UntypedStorage will be the only storage class. This should only matter to you if you are using storages directly.  To access UntypedStorage directly, use tensor.untyped_storage() instead of tensor.storage()\n",
            "  if self.device.type == 'meta':\n",
            "/usr/local/lib/python3.10/dist-packages/torch/storage.py:640: UserWarning: TypedStorage is deprecated. It will be removed in the future and UntypedStorage will be the only storage class. This should only matter to you if you are using storages directly.  To access UntypedStorage directly, use tensor.untyped_storage() instead of tensor.storage()\n",
            "  data_str = ' ' + '\\n '.join(str(self[i]) for i in range(self.size()))\n"
          ]
        }
      ],
      "source": [
        "# Example 1 - working\n",
        "\n",
        "# A constant tensor of size n\n",
        "a = torch.FloatStorage(6)\n",
        "print(a)  \n",
        "\n",
        "# Applying the is_storage function and \n",
        "x1 = torch.is_storage(a)\n",
        "print(x1)"
      ]
    },
    {
      "cell_type": "markdown",
      "metadata": {
        "id": "y-7rGmHnJPyW"
      },
      "source": [
        "Explanation about example:\n",
        "```\n",
        "In the above example we have created variable a with floatstorage.\n",
        "then we have checked using torch.is_storage(), and got output as Ture.\n"
      ]
    },
    {
      "cell_type": "code",
      "execution_count": 10,
      "metadata": {
        "colab": {
          "base_uri": "https://localhost:8080/"
        },
        "id": "LH_UGutUJPyW",
        "outputId": "d6312778-3d44-4c40-b0eb-75a6b7238ede"
      },
      "outputs": [
        {
          "output_type": "stream",
          "name": "stdout",
          "text": [
            "tensor([[ 1.3227e+00,  6.9113e-01, -4.4679e-01,  6.5395e-01, -7.5634e-01,\n",
            "          1.4147e+00],\n",
            "        [-1.4116e+00,  3.2557e-01, -1.6259e+00,  8.8110e-04, -1.2268e+00,\n",
            "         -1.7513e+00],\n",
            "        [ 1.0023e+00, -1.8031e-01,  1.3427e+00,  5.1949e-01,  1.4331e+00,\n",
            "         -6.2914e-01],\n",
            "        [ 1.0424e+00,  2.1939e+00, -1.0019e+00,  4.5391e-01, -1.5870e+00,\n",
            "         -4.2063e-01]])\n",
            "False\n"
          ]
        }
      ],
      "source": [
        "# Example 2 - working\n",
        "\n",
        "a = torch.randn(4, 6)\n",
        "print(a)\n",
        "  \n",
        "# Applying the is_storage function and \n",
        "x2 = torch.is_storage(a)\n",
        "print(x2)\n",
        "\n"
      ]
    },
    {
      "cell_type": "markdown",
      "metadata": {
        "id": "pmCCRrT1JPyW"
      },
      "source": [
        "Explanation about example:\n",
        "\n",
        "```\n",
        "In the above example torch.randn() function generates a tensor\n",
        "with random values, and is not a storage object. \n",
        "The torch.is_storage() function checks whether an object is a \n",
        "PyTorch storage object, not a tensor so it's gives output as False.\n"
      ]
    },
    {
      "cell_type": "code",
      "execution_count": 11,
      "metadata": {
        "colab": {
          "base_uri": "https://localhost:8080/"
        },
        "id": "jYrGuNzYJPyW",
        "outputId": "d34a9d47-3b6f-4373-8d6a-d4c3897e64af"
      },
      "outputs": [
        {
          "output_type": "execute_result",
          "data": {
            "text/plain": [
              "False"
            ]
          },
          "metadata": {},
          "execution_count": 11
        }
      ],
      "source": [
        "# Example 3 - breaking (to illustrate when it breaks)\n",
        "\n",
        "x3 = 5\n",
        "torch.is_storage(x3)"
      ]
    },
    {
      "cell_type": "markdown",
      "metadata": {
        "id": "uCysfGOrJPyX"
      },
      "source": [
        "Explanation about example:\n",
        "```\n",
        "In the above example we have taken non tensor value and then checking using torch.is_storage()\n"
      ]
    },
    {
      "cell_type": "markdown",
      "metadata": {
        "id": "omhTC_gpJPyX"
      },
      "source": [
        "Closing comments about when to use this function:\n",
        "\n",
        "```\n",
        "In general, torch.is_storage() will not raise any errors on its own, \n",
        "but you should ensure that the input argument is a \n",
        "PyTorch storage object before using it in storage-related operations.\n"
      ]
    },
    {
      "cell_type": "code",
      "execution_count": 12,
      "metadata": {
        "colab": {
          "base_uri": "https://localhost:8080/"
        },
        "id": "thqUg3ZLJPyX",
        "outputId": "ac7d6b25-72ad-4298-ae69-100cb12999de"
      },
      "outputs": [
        {
          "output_type": "stream",
          "name": "stdout",
          "text": [
            "[jovian] Detected Colab notebook...\u001b[0m\n",
            "[jovian] jovian.commit() is no longer required on Google Colab. If you ran this notebook from Jovian, \n",
            "then just save this file in Colab using Ctrl+S/Cmd+S and it will be updated on Jovian. \n",
            "Also, you can also delete this cell, it's no longer necessary.\u001b[0m\n"
          ]
        }
      ],
      "source": [
        "jovian.commit(project='01-tensor-operations')"
      ]
    },
    {
      "cell_type": "markdown",
      "metadata": {
        "id": "hPWy03IcJPyX"
      },
      "source": [
        "## Function 3 - torch.is_complex()\n",
        "\n",
        "```\n",
        "torch.is_complex() is a function in PyTorch that checks whether a given tensor\n",
        "or element-wise scalar input is complex or not. \n",
        "It returns a Boolean tensor of the same shape as the input tensor, \n",
        "where each element is True if the corresponding element in the \n",
        "input tensor is a complex number, and False otherwise.\n"
      ]
    },
    {
      "cell_type": "code",
      "execution_count": 13,
      "metadata": {
        "colab": {
          "base_uri": "https://localhost:8080/"
        },
        "id": "2B9IpB8aJPyX",
        "outputId": "cc6bf061-48f0-4505-df9d-ce9f5d74cd7e"
      },
      "outputs": [
        {
          "output_type": "stream",
          "name": "stdout",
          "text": [
            "tensor([2.+3.j, 4.-2.j, 1.+0.j])\n",
            "True\n"
          ]
        }
      ],
      "source": [
        "# Example 1 - working\n",
        "\n",
        "# creating a tensor x with complex values\n",
        "x = torch.tensor([2+3j, 4-2j, 1+0j])\n",
        "\n",
        "# check if the tensor contains complex values\n",
        "x1 = torch.is_complex(x)\n",
        "\n",
        "print(x)\n",
        "print(x1)"
      ]
    },
    {
      "cell_type": "markdown",
      "metadata": {
        "id": "huVmZ9hgJPyX"
      },
      "source": [
        "Explanation about example:\n",
        "```\n",
        "As we can see that we have taken complex values in tensor x,\n",
        "and then we have checked using torch.is_complex() function.\n"
      ]
    },
    {
      "cell_type": "code",
      "execution_count": 14,
      "metadata": {
        "colab": {
          "base_uri": "https://localhost:8080/"
        },
        "id": "YFXktXRnJPyX",
        "outputId": "bde95365-c3a9-44bf-a6f8-99abac201865"
      },
      "outputs": [
        {
          "output_type": "stream",
          "name": "stdout",
          "text": [
            "tensor([2.0000+0.j, 3.5000+0.j, 1.0000+0.j, 4.0000-3.j])\n",
            "True\n"
          ]
        }
      ],
      "source": [
        "# Example 2 - working\n",
        "\n",
        "# creating a tensor with both real and complex values\n",
        "x = torch.tensor([2, 3.5, 1+0j, 4-3j])\n",
        "\n",
        "# check if the tensor contains complex values\n",
        "x2 = torch.is_complex(x)\n",
        "\n",
        "print(x)\n",
        "print(x2)"
      ]
    },
    {
      "cell_type": "markdown",
      "metadata": {
        "id": "Rr7ZUPbtJPyX"
      },
      "source": [
        "Explanation about example:\n",
        "```\n",
        "Even though the first two elements of x are real numbers, \n",
        "they are automatically promoted to a complex type (specifically, \n",
        "torch.complex128) by PyTorch when combined with the complex elements in x.\n"
      ]
    },
    {
      "cell_type": "code",
      "execution_count": 15,
      "metadata": {
        "colab": {
          "base_uri": "https://localhost:8080/",
          "height": 200
        },
        "id": "UUHjdFmuJPyX",
        "outputId": "d0821a66-6e35-49c5-b37d-d32d647166d7"
      },
      "outputs": [
        {
          "output_type": "error",
          "ename": "TypeError",
          "evalue": "ignored",
          "traceback": [
            "\u001b[0;31m---------------------------------------------------------------------------\u001b[0m",
            "\u001b[0;31mTypeError\u001b[0m                                 Traceback (most recent call last)",
            "\u001b[0;32m<ipython-input-15-954b8474ee79>\u001b[0m in \u001b[0;36m<cell line: 6>\u001b[0;34m()\u001b[0m\n\u001b[1;32m      4\u001b[0m \u001b[0;34m\u001b[0m\u001b[0m\n\u001b[1;32m      5\u001b[0m \u001b[0;31m# try to check if the scalar is complex\u001b[0m\u001b[0;34m\u001b[0m\u001b[0;34m\u001b[0m\u001b[0m\n\u001b[0;32m----> 6\u001b[0;31m \u001b[0mis_complex\u001b[0m \u001b[0;34m=\u001b[0m \u001b[0mtorch\u001b[0m\u001b[0;34m.\u001b[0m\u001b[0mis_complex\u001b[0m\u001b[0;34m(\u001b[0m\u001b[0mx\u001b[0m\u001b[0;34m)\u001b[0m\u001b[0;34m\u001b[0m\u001b[0;34m\u001b[0m\u001b[0m\n\u001b[0m",
            "\u001b[0;31mTypeError\u001b[0m: is_complex(): argument 'input' (position 1) must be Tensor, not complex"
          ]
        }
      ],
      "source": [
        "# Example 3 - breaking (to illustrate when it breaks)\n",
        "\n",
        "x = 3 + 2j\n",
        "\n",
        "# try to check if the scalar is complex\n",
        "is_complex = torch.is_complex(x)"
      ]
    },
    {
      "cell_type": "markdown",
      "metadata": {
        "id": "9IbtrPL1JPyX"
      },
      "source": [
        "Explanation about example:\n",
        "\n",
        "```\n",
        "In the above example we can see that, the error message states that \n",
        "torch.is_complex() expected a Tensor input but received a complex object instead. \n",
        "Therefore, we should always make sure that the input to torch.is_complex() is a valid PyTorch tensor.\n"
      ]
    },
    {
      "cell_type": "markdown",
      "metadata": {
        "id": "1D25IxMsJPyX"
      },
      "source": [
        "Closing comments about when to use this function:\n",
        "```\n",
        "torch.is_complex() will not break or raise an error if the input tensor is a valid PyTorch tensor. \n",
        "However, if the input tensor is not a valid tensor, then torch.is_complex() will raise a \n",
        "TypeError with an appropriate error message.\n"
      ]
    },
    {
      "cell_type": "code",
      "execution_count": 16,
      "metadata": {
        "colab": {
          "base_uri": "https://localhost:8080/"
        },
        "id": "5fFLMnFoJPyX",
        "outputId": "1e3acb4a-7a4e-44eb-e576-f46d5cc2d0e9"
      },
      "outputs": [
        {
          "output_type": "stream",
          "name": "stdout",
          "text": [
            "[jovian] Detected Colab notebook...\u001b[0m\n",
            "[jovian] jovian.commit() is no longer required on Google Colab. If you ran this notebook from Jovian, \n",
            "then just save this file in Colab using Ctrl+S/Cmd+S and it will be updated on Jovian. \n",
            "Also, you can also delete this cell, it's no longer necessary.\u001b[0m\n"
          ]
        }
      ],
      "source": [
        "jovian.commit(project='01-tensor-operations')"
      ]
    },
    {
      "cell_type": "markdown",
      "metadata": {
        "id": "qeD3hj-jJPyX"
      },
      "source": [
        "## Function 4 - torch.conj()\n",
        "```\n",
        "The torch.conj(), function returns the complex conjugate of a tensor. \n",
        "This function applies the complex conjugate operation element-wise to a tensor,\n",
        "effectively flipping the sign of the imaginary part of each complex element. \n"
      ]
    },
    {
      "cell_type": "code",
      "execution_count": 17,
      "metadata": {
        "colab": {
          "base_uri": "https://localhost:8080/"
        },
        "id": "vZaOrftuJPyX",
        "outputId": "fac39932-f864-4867-b943-0423425afc7e"
      },
      "outputs": [
        {
          "output_type": "stream",
          "name": "stdout",
          "text": [
            "tensor([2.0000+0.j, 3.5000+0.j, 1.0000+2.j, 4.0000-3.j])\n",
            "tensor([2.0000-0.j, 3.5000-0.j, 1.0000-2.j, 4.0000+3.j])\n"
          ]
        }
      ],
      "source": [
        "# Example 1 - working\n",
        "\n",
        "# creating a tensor with both real and complex values\n",
        "x = torch.tensor([2, 3.5, 1+2j, 4-3j])\n",
        "\n",
        "# compute the complex conjugate of x\n",
        "x1 = torch.conj(x)\n",
        "\n",
        "print(x)\n",
        "print(x1)"
      ]
    },
    {
      "cell_type": "markdown",
      "metadata": {
        "id": "UjWgFhs4JPyX"
      },
      "source": [
        "Explanation about example:\n",
        "```\n",
        "In this example, we created a tensor x that has both real and complex values. \n",
        "We then used torch.conj() to compute the complex conjugate of x, \n",
        "which is a new tensor that has the same shape as x but with the \n",
        "signs of the imaginary parts of the complex elements flipped. \n"
      ]
    },
    {
      "cell_type": "code",
      "execution_count": 18,
      "metadata": {
        "colab": {
          "base_uri": "https://localhost:8080/"
        },
        "id": "EOsrfhghJPyX",
        "outputId": "2fca4e00-d9f4-4b31-a4c4-1768a2c7d1d2"
      },
      "outputs": [
        {
          "output_type": "stream",
          "name": "stdout",
          "text": [
            "tensor([2.+0.j, 4.+0.j, 1.+0.j, 4.-3.j])\n"
          ]
        }
      ],
      "source": [
        "# Example 2 - working\n",
        "\n",
        "y = torch.tensor([2, 4, 1, 4-3j])\n",
        "\n",
        "x2 = torch.conj(y)\n",
        "\n",
        "print(y)\n"
      ]
    },
    {
      "cell_type": "markdown",
      "metadata": {
        "id": "YlGj3H-TJPyX"
      },
      "source": [
        "```\n",
        "In this example, we created a tensor y that has both real and complex values.\n",
        "We then used torch.conj() to compute the complex conjugate of y, which is a \n",
        "new tensor that has the same shape as y but with the signs of the imaginary \n",
        "parts of the complex elements flipped.\n",
        "\n",
        "\n",
        "```\n",
        "\n"
      ]
    },
    {
      "cell_type": "code",
      "execution_count": 21,
      "metadata": {
        "colab": {
          "base_uri": "https://localhost:8080/"
        },
        "id": "ogylqsjcJPyY",
        "outputId": "856a91c3-3a05-49e2-c9f9-1ea9c7af6a53"
      },
      "outputs": [
        {
          "output_type": "execute_result",
          "data": {
            "text/plain": [
              "tensor([2.0000, 3.5000, 1.0000, 4.0000])"
            ]
          },
          "metadata": {},
          "execution_count": 21
        }
      ],
      "source": [
        "# Example 3 - breaking (to illustrate when it breaks)\n",
        "\n",
        "# a tensor with only real values\n",
        "x = torch.tensor([2, 3.5, 1, 4])\n",
        "\n",
        "# try to compute the complex conjugate of x\n",
        "x3 = torch.conj(x)\n",
        "x3"
      ]
    },
    {
      "cell_type": "markdown",
      "metadata": {
        "id": "vQ_dlN3eJPyY"
      },
      "source": [
        "Explanation about example\n",
        "\n",
        "```\n",
        "As we can see, that we have given a noraml tensor instead of conjugate,\n",
        "then it's giving same tensor without any change.\n"
      ]
    },
    {
      "cell_type": "markdown",
      "metadata": {
        "id": "96SQw7z6JPyY"
      },
      "source": [
        "Closing comments about when to use this function\n",
        "\n",
        "```\n",
        "torch.conj() is a PyTorch function that returns the complex conjugate of the \n",
        "input tensor. It only works with complex tensors, and will raise a \n",
        "RuntimeError if called with a non-complex tensor.\n",
        "\n"
      ]
    },
    {
      "cell_type": "code",
      "execution_count": 22,
      "metadata": {
        "colab": {
          "base_uri": "https://localhost:8080/"
        },
        "id": "o4ky4ZQyJPyY",
        "outputId": "5827c612-7e1e-4c2f-b7bc-e53fb51650f5"
      },
      "outputs": [
        {
          "output_type": "stream",
          "name": "stdout",
          "text": [
            "[jovian] Detected Colab notebook...\u001b[0m\n",
            "[jovian] jovian.commit() is no longer required on Google Colab. If you ran this notebook from Jovian, \n",
            "then just save this file in Colab using Ctrl+S/Cmd+S and it will be updated on Jovian. \n",
            "Also, you can also delete this cell, it's no longer necessary.\u001b[0m\n"
          ]
        }
      ],
      "source": [
        "jovian.commit(project='01-tensor-operations')"
      ]
    },
    {
      "cell_type": "markdown",
      "metadata": {
        "id": "otQSK9KUJPyY"
      },
      "source": [
        "## Function 5 - torch.is_floating_point()\n",
        "\n",
        "```\n",
        "torch.is_floating_point() is a built-in PyTorch function that returns \n",
        "True if the given tensor has a floating point data type, and False otherwise.\n"
      ]
    },
    {
      "cell_type": "code",
      "execution_count": 24,
      "metadata": {
        "colab": {
          "base_uri": "https://localhost:8080/"
        },
        "id": "VpqMguHoJPyY",
        "outputId": "e793e3e1-9fb8-4b57-a804-abc61cb23215"
      },
      "outputs": [
        {
          "output_type": "stream",
          "name": "stdout",
          "text": [
            "tensor([2, 3, 1])\n"
          ]
        },
        {
          "output_type": "execute_result",
          "data": {
            "text/plain": [
              "False"
            ]
          },
          "metadata": {},
          "execution_count": 24
        }
      ],
      "source": [
        "# Example 1 - working\n",
        "\n",
        "y = torch.tensor([2, 3, 1])\n",
        "\n",
        "x1 = torch.is_floating_point(y)\n",
        "print(y)\n",
        "x1"
      ]
    },
    {
      "cell_type": "markdown",
      "metadata": {
        "id": "f_syH59IJPyY"
      },
      "source": [
        "Explanation about example:\n",
        "\n",
        "```\n",
        "In the above example we created y tensor without floating point number,\n",
        "and getting output as False.\n"
      ]
    },
    {
      "cell_type": "code",
      "execution_count": 25,
      "metadata": {
        "colab": {
          "base_uri": "https://localhost:8080/"
        },
        "id": "8JGqQvDQJPyY",
        "outputId": "23cb8fd6-c337-464a-a516-94b5fb05f0fc"
      },
      "outputs": [
        {
          "output_type": "stream",
          "name": "stdout",
          "text": [
            "tensor([2.5000, 3.6000, 1.4000])\n"
          ]
        },
        {
          "output_type": "execute_result",
          "data": {
            "text/plain": [
              "True"
            ]
          },
          "metadata": {},
          "execution_count": 25
        }
      ],
      "source": [
        "# Example 2 - working\n",
        "\n",
        "y = torch.tensor([2.5, 3.6, 1.4])\n",
        "\n",
        "x2 = torch.is_floating_point(y)\n",
        "print(y)\n",
        "x2"
      ]
    },
    {
      "cell_type": "markdown",
      "metadata": {
        "id": "9ZjtEv1DJPyY"
      },
      "source": [
        "Explanation about example\n",
        "\n",
        "```\n",
        "In the above example we have created tensor y with floating point number,\n",
        "and getting output as True.\n"
      ]
    },
    {
      "cell_type": "code",
      "execution_count": 30,
      "metadata": {
        "colab": {
          "base_uri": "https://localhost:8080/"
        },
        "id": "hCFgHqQ9JPyY",
        "outputId": "62332691-913a-4a8a-b82a-3c7e3217a579"
      },
      "outputs": [
        {
          "output_type": "stream",
          "name": "stdout",
          "text": [
            "Before dividing False\n",
            "After dividing True\n"
          ]
        }
      ],
      "source": [
        "# Example 3 - breaking (to illustrate when it breaks)\n",
        "\n",
        "x = torch.tensor([8, 2, 4])\n",
        "\n",
        "# try to divide x by 2.0\n",
        "y = x / 2.0\n",
        "x3 = torch.is_floating_point(y)\n",
        "y3 = torch.is_floating_point(x)\n",
        "print('Before dividing',y3)\n",
        "print('After dividing',x3)\n"
      ]
    },
    {
      "cell_type": "markdown",
      "metadata": {
        "id": "iA6aBWG2JPyY"
      },
      "source": [
        "Explanation about example:\n",
        "\n",
        "```\n",
        "In the above example we have created a tensor x and then divide by 2.0 and \n",
        "storing the result into y, and after checking the type for both before dividing\n",
        "and after dividing we are getting False and True respectivaly.\n"
      ]
    },
    {
      "cell_type": "markdown",
      "metadata": {
        "id": "LexiZA5RJPyY"
      },
      "source": [
        "Closing comments about when to use this function:\n",
        "```\n",
        "torch.is_floating_point() does not raise any errors on its own. \n",
        "It simply returns a boolean value indicating whether the input \n",
        "tensor has a floating point data type or not.\n"
      ]
    },
    {
      "cell_type": "code",
      "execution_count": 31,
      "metadata": {
        "colab": {
          "base_uri": "https://localhost:8080/"
        },
        "id": "Jkfbmj9CJPyY",
        "outputId": "f249339f-e4fe-4b4f-ec65-565acd7bd147"
      },
      "outputs": [
        {
          "output_type": "stream",
          "name": "stdout",
          "text": [
            "[jovian] Detected Colab notebook...\u001b[0m\n",
            "[jovian] jovian.commit() is no longer required on Google Colab. If you ran this notebook from Jovian, \n",
            "then just save this file in Colab using Ctrl+S/Cmd+S and it will be updated on Jovian. \n",
            "Also, you can also delete this cell, it's no longer necessary.\u001b[0m\n"
          ]
        }
      ],
      "source": [
        "jovian.commit(project='01-tensor-operations')"
      ]
    },
    {
      "cell_type": "markdown",
      "metadata": {
        "id": "XEr46kiKJPyY"
      },
      "source": [
        "## Conclusion\n",
        "unction 1: is_tensor\n",
        "function 2: is_storage\n",
        "function 3: is_complex\n",
        "function 4: conj\n",
        "function 5: is_floating_point\n",
        "\n",
        "```\n",
        "In this notebook we have learn about five most important tensor functions which\n",
        "are torch.is_tensor(), torch.is_storage(), torch.is_complex(), torch.conj(), \n",
        "and torch.is_floating_point(). Next we will try to learn about Image processing \n",
        "using pytorch.\n"
      ]
    },
    {
      "cell_type": "markdown",
      "metadata": {
        "id": "kPXYGPOoJPyY"
      },
      "source": [
        "## Reference Links\n",
        "Provide links to your references and other interesting articles about tensors\n",
        "* Official documentation for tensor operations: https://pytorch.org/docs/stable/torch.html\n",
        "* ..."
      ]
    },
    {
      "cell_type": "code",
      "execution_count": 32,
      "metadata": {
        "colab": {
          "base_uri": "https://localhost:8080/"
        },
        "id": "uY4vkiA4JPyY",
        "outputId": "057a023a-b4e3-457c-8cbe-1709b7126f45"
      },
      "outputs": [
        {
          "output_type": "stream",
          "name": "stdout",
          "text": [
            "[jovian] Detected Colab notebook...\u001b[0m\n",
            "[jovian] jovian.commit() is no longer required on Google Colab. If you ran this notebook from Jovian, \n",
            "then just save this file in Colab using Ctrl+S/Cmd+S and it will be updated on Jovian. \n",
            "Also, you can also delete this cell, it's no longer necessary.\u001b[0m\n"
          ]
        }
      ],
      "source": [
        "jovian.commit(project='01-tensor-operations')"
      ]
    },
    {
      "cell_type": "code",
      "execution_count": null,
      "metadata": {
        "id": "wYTGS4w-JPyY"
      },
      "outputs": [],
      "source": []
    }
  ],
  "metadata": {
    "kernelspec": {
      "display_name": "Python 3",
      "language": "python",
      "name": "python3"
    },
    "language_info": {
      "codemirror_mode": {
        "name": "ipython",
        "version": 3
      },
      "file_extension": ".py",
      "mimetype": "text/x-python",
      "name": "python",
      "nbconvert_exporter": "python",
      "pygments_lexer": "ipython3",
      "version": "3.8.5"
    },
    "colab": {
      "provenance": [],
      "include_colab_link": true
    }
  },
  "nbformat": 4,
  "nbformat_minor": 0
}